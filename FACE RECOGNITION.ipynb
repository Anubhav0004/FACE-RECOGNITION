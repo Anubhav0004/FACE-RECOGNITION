{
 "cells": [
  {
   "cell_type": "markdown",
   "id": "2a586eb9",
   "metadata": {},
   "source": [
    "## DETECTOR"
   ]
  },
  {
   "cell_type": "code",
   "execution_count": 4,
   "id": "e00a47dc",
   "metadata": {},
   "outputs": [
    {
     "name": "stdout",
     "output_type": "stream",
     "text": [
      "enter user id 001\n",
      "[INFO] Initialising face recoginition. Look at the camera for 120 seconds...\n",
      "[EXITING] Exiting program and cleanup stuff\n"
     ]
    }
   ],
   "source": [
    "import cv2\n",
    "\n",
    "\n",
    "faceCascade = cv2.CascadeClassifier('Cascades/haarcascade_frontalface_default.xml')\n",
    "cap = cv2.VideoCapture(0)\n",
    "\n",
    "face_id = input('enter user id ')\n",
    "print('[INFO] Initialising face recoginition. Look at the camera for 120 seconds...')\n",
    "\n",
    "count=0\n",
    "while True:\n",
    "    success, img = cap.read()\n",
    "    img = cv2.flip(img, 1)\n",
    "    #drawing face detection annotations\n",
    "    gray = cv2.cvtColor(img, cv2.COLOR_BGR2GRAY)\n",
    "    faces = faceCascade.detectMultiScale(\n",
    "        gray,     \n",
    "        scaleFactor=1.2,\n",
    "        minNeighbors=5,     \n",
    "    )\n",
    "    for (x,y,w,h) in faces:\n",
    "        cv2.rectangle(img,(x,y),(x+w,y+h),(255,0,0),2)\n",
    "        count+=1\n",
    "\n",
    "        #save sample images for training data\n",
    "        cv2.imwrite(\"dataset/User.\"+str(face_id)+'.'+str(count)+\".jpg\", gray[y:y+h, x:x+w])\n",
    "        cv2.imshow('Image', img)\n",
    "        \n",
    "    k= cv2.waitKey(100) & 0xff\n",
    "    if k==27:\n",
    "        break\n",
    "    elif count>=120:\n",
    "        break\n",
    "print('[EXITING] Exiting program and cleanup stuff')\n",
    "cap.release()\n",
    "cv2.destroyAllWindows()"
   ]
  },
  {
   "cell_type": "markdown",
   "id": "c3277ac8",
   "metadata": {},
   "source": [
    "## TRAINER"
   ]
  },
  {
   "cell_type": "code",
   "execution_count": null,
   "id": "25c610d3",
   "metadata": {},
   "outputs": [],
   "source": [
    "!pip install --user opencv-contrib-python"
   ]
  },
  {
   "cell_type": "code",
   "execution_count": 5,
   "id": "674f2a57",
   "metadata": {},
   "outputs": [
    {
     "name": "stdout",
     "output_type": "stream",
     "text": [
      "\n",
      "[INFO] Training faces... Please Wait...\n",
      "\n",
      " [INFO] 1 faces trained. Exiting program..\n"
     ]
    }
   ],
   "source": [
    "import cv2\n",
    "import numpy as np\n",
    "from PIL import Image\n",
    "import os\n",
    "\n",
    "path = 'dataset'\n",
    "recognizer = cv2.face.LBPHFaceRecognizer_create()\n",
    "detector = cv2.CascadeClassifier(\"Cascades/haarcascade_frontalface_default.xml\")\n",
    "\n",
    "#get images and face data\n",
    "def getImagesAndLabels(path):\n",
    "    imagePaths = [os.path.join(path, f) for f in os.listdir(path)]\n",
    "    faceSamples = []\n",
    "    ids = []\n",
    "    for imagePath in imagePaths:\n",
    "        PIL_img = Image.open(imagePath).convert('L')  #convert to grayscale\n",
    "        img_numpy = np.array(PIL_img, 'uint8')\n",
    "        id = int(os.path.split(imagePath)[-1].split(\".\")[1])\n",
    "        faces = detector.detectMultiScale(img_numpy)\n",
    "        for (x,y,w,h) in faces:\n",
    "            faceSamples.append(img_numpy[y:y+h, x:x+w])\n",
    "            ids.append(id)\n",
    "    return faceSamples, ids\n",
    "\n",
    "\n",
    "print('\\n[INFO] Training faces... Please Wait...')\n",
    "\n",
    "faces, ids = getImagesAndLabels(path)\n",
    "recognizer.train(faces, np.array(ids))\n",
    "\n",
    "#save the model to trainer.yml\n",
    "recognizer.write('trainer/trainer.yml')\n",
    "\n",
    "#print number of faces trained\n",
    "print('\\n [INFO] {0} faces trained. Exiting program..'.format(len(np.unique(ids))))"
   ]
  },
  {
   "cell_type": "markdown",
   "id": "a9cfa900",
   "metadata": {},
   "source": [
    "## RECOGNITION "
   ]
  },
  {
   "cell_type": "code",
   "execution_count": 6,
   "id": "658e1c12",
   "metadata": {},
   "outputs": [],
   "source": [
    "import cv2\n",
    "import numpy as np\n",
    "import os\n",
    "\n",
    "recognizer = cv2.face.LBPHFaceRecognizer_create()\n",
    "recognizer.read('trainer/trainer.yml')\n",
    "cascadePath = \"Cascades/haarcascade_frontalface_default.xml\"\n",
    "faceCascade = cv2.CascadeClassifier(cascadePath)\n",
    "font = cv2.FONT_HERSHEY_SIMPLEX\n",
    "\n",
    "#id counter \n",
    "id=0\n",
    "names = ['NONE','ANUBHAV']\n",
    "\n",
    "cam = cv2.VideoCapture(0)\n",
    "\n",
    "count=0"
   ]
  },
  {
   "cell_type": "code",
   "execution_count": null,
   "id": "b7520da6",
   "metadata": {},
   "outputs": [],
   "source": [
    "while True:\n",
    "    ret, img = cam.read()\n",
    "    img = cv2.flip(img,1)\n",
    "    gray = cv2.cvtColor(img, cv2.COLOR_BGR2GRAY)\n",
    "\n",
    "    faces = faceCascade.detectMultiScale(gray, scaleFactor = 1.2, minNeighbors = 5)\n",
    "\n",
    "    for(x,y,w,h) in faces:\n",
    "        cv2.rectangle(img, (x,y), (x+w,y+h), (0,255,0), 2)\n",
    "        id, confidence = recognizer.predict(gray[y:y+h,x:x+w])\n",
    "        \n",
    "        # If confidence is less them 100 ==> \"0\" : perfect match \n",
    "        if (confidence > 50):\n",
    "            id = names[id]\n",
    "            confidence = \"  {0}%\".format(round(100 - confidence))\n",
    "        else:\n",
    "            id = \"unknown\"\n",
    "            confidence = \"  {0}%\".format(round(100 - confidence))\n",
    "        \n",
    "        cv2.putText(\n",
    "                    img, \n",
    "                    str(id), \n",
    "                    (x+5,y-5), \n",
    "                    font, \n",
    "                    1, \n",
    "                    (255,255,255), \n",
    "                    2\n",
    "                   )\n",
    "        cv2.putText(\n",
    "                    img, \n",
    "                    str(confidence), \n",
    "                    (x+5,y+h-5), \n",
    "                    font, \n",
    "                    1, \n",
    "                    (255,255,0), \n",
    "                    1\n",
    "                   ) \n",
    "        cv2.imshow('camera',img) \n",
    "        k = cv2.waitKey(10) & 0xff # Press 'ESC' for exiting video\n",
    "        if k == 40:\n",
    "            break"
   ]
  },
  {
   "cell_type": "code",
   "execution_count": null,
   "id": "3b2d9f17",
   "metadata": {},
   "outputs": [],
   "source": [
    "# Do a bit of cleanup\n",
    "print(\"\\n [INFO] Exiting Program and cleanup stuff\")\n",
    "cam.release()\n",
    "cv2.destroyAllWindows()"
   ]
  }
 ],
 "metadata": {
  "kernelspec": {
   "display_name": "Python 3",
   "language": "python",
   "name": "python3"
  },
  "language_info": {
   "codemirror_mode": {
    "name": "ipython",
    "version": 3
   },
   "file_extension": ".py",
   "mimetype": "text/x-python",
   "name": "python",
   "nbconvert_exporter": "python",
   "pygments_lexer": "ipython3",
   "version": "3.8.8"
  }
 },
 "nbformat": 4,
 "nbformat_minor": 5
}
